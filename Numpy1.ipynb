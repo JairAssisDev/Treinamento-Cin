{
  "nbformat": 4,
  "nbformat_minor": 0,
  "metadata": {
    "colab": {
      "provenance": [],
      "authorship_tag": "ABX9TyOndAi+2FMG8G7xmUxv/epY",
      "include_colab_link": true
    },
    "kernelspec": {
      "name": "python3",
      "display_name": "Python 3"
    },
    "language_info": {
      "name": "python"
    }
  },
  "cells": [
    {
      "cell_type": "markdown",
      "metadata": {
        "id": "view-in-github",
        "colab_type": "text"
      },
      "source": [
        "<a href=\"https://colab.research.google.com/github/JairAssisDev/Treinamento-Cin/blob/main/Numpy1.ipynb\" target=\"_parent\"><img src=\"https://colab.research.google.com/assets/colab-badge.svg\" alt=\"Open In Colab\"/></a>"
      ]
    },
    {
      "cell_type": "code",
      "execution_count": 1,
      "metadata": {
        "colab": {
          "base_uri": "https://localhost:8080/"
        },
        "id": "t77QfH-i1msU",
        "outputId": "254aaba6-2f22-42c7-e3e0-148df0af77dd"
      },
      "outputs": [
        {
          "output_type": "stream",
          "name": "stdout",
          "text": [
            "Requirement already satisfied: numpy in /usr/local/lib/python3.10/dist-packages (1.23.5)\n"
          ]
        }
      ],
      "source": [
        "!pip install numpy"
      ]
    },
    {
      "cell_type": "code",
      "source": [
        "import numpy as np"
      ],
      "metadata": {
        "id": "Qy5Ni7yT1q2Z"
      },
      "execution_count": 2,
      "outputs": []
    },
    {
      "cell_type": "code",
      "source": [
        "meu_array= np.array([1,2,3,4,5,6])\n",
        "print(meu_array)\n",
        "print(type(meu_array))\n",
        "print(meu_array.dtype)\n",
        "print(meu_array[2])"
      ],
      "metadata": {
        "colab": {
          "base_uri": "https://localhost:8080/"
        },
        "id": "yCCBB-Mf10FL",
        "outputId": "b04ef3ab-a373-4ad3-a81b-75b6747b562f"
      },
      "execution_count": 3,
      "outputs": [
        {
          "output_type": "stream",
          "name": "stdout",
          "text": [
            "[1 2 3 4 5 6]\n",
            "<class 'numpy.ndarray'>\n",
            "int64\n",
            "3\n"
          ]
        }
      ]
    },
    {
      "cell_type": "code",
      "source": [
        "minha_matriz = np.array([[1,2,3],[4,5,6]])\n",
        "print(minha_matriz)\n",
        "print(type(minha_matriz))\n",
        "print(minha_matriz[0][2])"
      ],
      "metadata": {
        "colab": {
          "base_uri": "https://localhost:8080/"
        },
        "id": "wyEj3ReA2hAw",
        "outputId": "24b4dad1-719d-4881-cd09-7ccaf1f61150"
      },
      "execution_count": 4,
      "outputs": [
        {
          "output_type": "stream",
          "name": "stdout",
          "text": [
            "[[1 2 3]\n",
            " [4 5 6]]\n",
            "<class 'numpy.ndarray'>\n",
            "3\n"
          ]
        }
      ]
    },
    {
      "cell_type": "code",
      "source": [
        "escalar = np.array(1)\n",
        "print(escalar.ndim)\n",
        "\n",
        "vec1D = np.array([1,2,3])\n",
        "print(vec1D.ndim)\n",
        "\n",
        "mat2D = np.array([[1,2,3],[4,5,6]])\n",
        "print(mat2D.ndim)\n",
        "\n",
        "mat3D = np.array([[1,2,3],[4,5,6],[7,8,9]])\n",
        "print(mat3D.ndim)\n",
        "\n",
        "mat5D = np.array([1,2,3,4,5],ndmin=5)\n",
        "print(mat5D)\n",
        "print(mat5D.ndim)\n"
      ],
      "metadata": {
        "colab": {
          "base_uri": "https://localhost:8080/"
        },
        "id": "id7siKlg3MrQ",
        "outputId": "bbae7a63-7415-47a5-8198-cbe1bb3dbb7f"
      },
      "execution_count": 8,
      "outputs": [
        {
          "output_type": "stream",
          "name": "stdout",
          "text": [
            "0\n",
            "1\n",
            "2\n",
            "2\n",
            "[[[[[1 2 3 4 5]]]]]\n",
            "5\n"
          ]
        }
      ]
    },
    {
      "cell_type": "code",
      "source": [
        "print(escalar.shape)\n",
        "print(vec1D.shape)\n",
        "print(mat2D.shape)\n",
        "print(mat3D.shape)\n",
        "print(mat5D.shape)"
      ],
      "metadata": {
        "colab": {
          "base_uri": "https://localhost:8080/"
        },
        "id": "YKlVxuwaEsTC",
        "outputId": "d51db0dc-4b49-4bf2-e9de-992a7b5d4eb7"
      },
      "execution_count": 9,
      "outputs": [
        {
          "output_type": "stream",
          "name": "stdout",
          "text": [
            "()\n",
            "(3,)\n",
            "(2, 3)\n",
            "(3, 3)\n",
            "(1, 1, 1, 1, 5)\n"
          ]
        }
      ]
    },
    {
      "cell_type": "code",
      "source": [
        "#número de bits que constituem o valor inteiro: int8, int16, int32, int64\n",
        "int_array = np.array([1,2,3],dtype= np.int64)\n",
        "print(int_array)\n",
        "\n",
        "#número de bits que constituem o valor float: int8, int16, int32, int64\n",
        "float_array = np.array([1.0,2.0,3.0],dtype=np.float64)\n",
        "print(float_array)\n",
        "\n",
        "#array de números complexos\n",
        "complex_num = np.array([1 + 2j,3- 4],dtype=complex)\n",
        "print(complex_num)\n",
        "\n",
        "#array de valores booleanos\n",
        "bool_array = np.array([True,False,True])\n",
        "print(bool_array)\n",
        "\n",
        "#array de strings\n",
        "string_array = np.array(['foo','bar','baz'],dtype=np.string_)\n",
        "print(string_array)\n",
        "\n",
        "#array de datas\n",
        "date_array =np.array(['2023-01-01','2023-01-02'],dtype=np.datetime64)\n",
        "print(date_array)\n"
      ],
      "metadata": {
        "colab": {
          "base_uri": "https://localhost:8080/"
        },
        "id": "XppBfV92Es8q",
        "outputId": "d9436093-98c2-4950-d782-e8ddcc682246"
      },
      "execution_count": 10,
      "outputs": [
        {
          "output_type": "stream",
          "name": "stdout",
          "text": [
            "[1 2 3]\n",
            "[1. 2. 3.]\n",
            "[ 1.+2.j -1.+0.j]\n",
            "[ True False  True]\n",
            "[b'foo' b'bar' b'baz']\n",
            "['2023-01-01' '2023-01-02']\n"
          ]
        }
      ]
    },
    {
      "cell_type": "code",
      "source": [
        "# Criar uma array vazia com 2 elementos\n",
        "array_vazia = np.empty(2)\n",
        "print(array_vazia)\n",
        "\n",
        "#Criar um array de números inteiros de 0 a 9\n",
        "array = np.arange(10)\n",
        "print(array)\n",
        "\n",
        "#Criar um array de números float de 0 a 1 com incremento de 0.1\n",
        "array = np.arange(0,1, 0.1)\n",
        "print(array)\n",
        "\n",
        "#array de elementos aleatórios\n",
        "dados_aleatorios = np.random.rand(5)\n",
        "print(dados_aleatorios)\n",
        "\n",
        "#Criar um array 2D de zores com 3 linhas e 4 colunas\n",
        "zeros_array = np.zeros((3,4))\n",
        "print(zeros_array)\n",
        "\n",
        "#Criar um array 2D de uns com 2 linha e 3 colunas\n",
        "uns_array = np.ones((2,3))\n",
        "print(uns_array)\n",
        "\n",
        "# criar um array com 10 valores igualmente espeçados entre 1 e 5\n",
        "array_lins = np.linspace(1,5, num=10)\n",
        "print(array_lins)"
      ],
      "metadata": {
        "colab": {
          "base_uri": "https://localhost:8080/"
        },
        "id": "0EfE7f13Urbd",
        "outputId": "9d266efc-7de4-498d-aba3-cc99b3cc1ef4"
      },
      "execution_count": 13,
      "outputs": [
        {
          "output_type": "stream",
          "name": "stdout",
          "text": [
            "[9.5641e-320 9.5646e-320]\n",
            "[0 1 2 3 4 5 6 7 8 9]\n",
            "[0.  0.1 0.2 0.3 0.4 0.5 0.6 0.7 0.8 0.9]\n",
            "[0.11125056 0.81450963 0.252655   0.20249144 0.78800388]\n",
            "[[0. 0. 0. 0.]\n",
            " [0. 0. 0. 0.]\n",
            " [0. 0. 0. 0.]]\n",
            "[[1. 1. 1.]\n",
            " [1. 1. 1.]]\n",
            "[1.         1.44444444 1.88888889 2.33333333 2.77777778 3.22222222\n",
            " 3.66666667 4.11111111 4.55555556 5.        ]\n"
          ]
        }
      ]
    },
    {
      "cell_type": "code",
      "source": [
        "arr = np.array([[1,2,3],[4,5,6]])\n",
        "\n",
        "shape = arr.shape\n",
        "print(shape)\n",
        "\n",
        "dimensao = arr.ndim\n",
        "print(dimensao)\n",
        "\n",
        "elementos = arr.size\n",
        "print(elementos)\n",
        "\n",
        "data_type = arr.dtype\n",
        "print(data_type)"
      ],
      "metadata": {
        "colab": {
          "base_uri": "https://localhost:8080/"
        },
        "id": "FD2ALK4HVO8x",
        "outputId": "cd48c987-d698-4cdf-dc86-5c5b2ebe6498"
      },
      "execution_count": 14,
      "outputs": [
        {
          "output_type": "stream",
          "name": "stdout",
          "text": [
            "(2, 3)\n",
            "2\n",
            "6\n",
            "int64\n"
          ]
        }
      ]
    },
    {
      "cell_type": "code",
      "source": [
        "#Operações básicas:\n",
        "array1 = np.array([1, 2, 3])\n",
        "array2 = np.array([4, 5, 6])\n",
        "matriz1 = np.array([[1, 2], [3, 4]])\n",
        "matriz2 = np.array([[5, 6], [7, 8]])\n",
        "array_random = np.array([3,6,4,7,4,2])\n",
        "\n",
        "# soma o elemento na posição correspondente em cada posição\n",
        "soma = array1 + array2\n",
        "print(f\"Soma de {array1} e {array2}: {soma}\")\n",
        "\n",
        "# subtrai o valor correspondente do segundo array em cada posição\n",
        "subtracao = array1 - array2\n",
        "print(f\"Subtracao de {array1} e {array2}: {subtracao}\")\n",
        "\n",
        "# multiplica cada elemento do array pelo seu correspondente nem cada posição\n",
        "multiplicacao = array1 * array2\n",
        "print(f\"multiplicacao {array1} e {array2}: {multiplicacao}\")\n",
        "\n",
        "\n",
        "# divide cada elemento pelo correspondente em cada posição\n",
        "divisao = array1 / array2\n",
        "print(f\"Divisao de {array1} por {array2}: {divisao}\")\n",
        "\n",
        "# produto entre matrizes:\n",
        "produto = np.dot(matriz1, matriz2)\n",
        "print(f\"Produto entre {matriz1} e {matriz2}: {produto}\")\n",
        "\n",
        "#concatenando duas arrays\n",
        "concatenacao = np.concatenate((array1, array2))\n",
        "print(f\"Concatenacao de {array1} e {array2}: {concatenacao}\")\n",
        "\n",
        "#ordenando um array\n",
        "print(f\"Array antes da ordenacao: {array_random}\")\n",
        "array_ordenada = np.sort(array_random)\n",
        "print(f\"Array_ordenado: {array_ordenada}\\n\")\n",
        "\n",
        "# podemos adicionar uma dimensão extra de tamanho 1 no array\n",
        "arr = np.array([[1,2,3],[1,2,3]])\n",
        "print(f\"Expandindo a dimensionalidade\")\n",
        "print(f'Shape: {arr.shape}')\n",
        "print(f'Shape: {np.expand_dims(arr, axis=0).shape}')\n",
        "print(f'Shape: {np.expand_dims(arr, axis=1).shape}\\n')\n",
        "\n",
        "# da mesma forma, podemos remover uma dimensao de tamanho 1\n",
        "arr = np.array([[[1,2,3], [1,2,3]]])\n",
        "print(f\"Revomendo uma dimensao unitaria\")\n",
        "print(f'Shape: {arr.shape}')\n",
        "print(f'Shape: {np.squeeze(arr, axis=0).shape}\\n')"
      ],
      "metadata": {
        "colab": {
          "base_uri": "https://localhost:8080/"
        },
        "id": "cRAgRY9pZalu",
        "outputId": "bd120ae0-9357-4dce-e965-ac89c8481404"
      },
      "execution_count": 15,
      "outputs": [
        {
          "output_type": "stream",
          "name": "stdout",
          "text": [
            "Soma de [1 2 3] e [4 5 6]: [5 7 9]\n",
            "Subtracao de [1 2 3] e [4 5 6]: [-3 -3 -3]\n",
            "multiplicacao [1 2 3] e [4 5 6]: [ 4 10 18]\n",
            "Divisao de [1 2 3] por [4 5 6]: [0.25 0.4  0.5 ]\n",
            "Produto entre [[1 2]\n",
            " [3 4]] e [[5 6]\n",
            " [7 8]]: [[19 22]\n",
            " [43 50]]\n",
            "Concatenacao de [1 2 3] e [4 5 6]: [1 2 3 4 5 6]\n",
            "Array antes da ordenacao: [3 6 4 7 4 2]\n",
            "Array_ordenado: [2 3 4 4 6 7]\n",
            "\n",
            "Expandindo a dimensionalidade\n",
            "Shape: (2, 3)\n",
            "Shape: (1, 2, 3)\n",
            "Shape: (2, 1, 3)\n",
            "\n",
            "Revomendo uma dimensao unitaria\n",
            "Shape: (1, 2, 3)\n",
            "Shape: (2, 3)\n",
            "\n"
          ]
        }
      ]
    },
    {
      "cell_type": "code",
      "source": [
        "array = np.array([1, 2, 3, 4, 5, 6, 5, 3, 8])\n",
        "\n",
        "media = np.mean(array)\n",
        "print(media)\n",
        "\n",
        "mediana = np.median(array)\n",
        "print(mediana)\n",
        "\n",
        "desvio_padrao = np.std(array)\n",
        "print(desvio_padrao)\n",
        "\n",
        "variancia = np.var(array)\n",
        "print(variancia)\n",
        "\n",
        "valor_minimo = np.min(array)\n",
        "valor_maximo = np.max(array)\n",
        "print(valor_minimo, valor_maximo)"
      ],
      "metadata": {
        "colab": {
          "base_uri": "https://localhost:8080/"
        },
        "id": "nChVSKipdBzl",
        "outputId": "24bb09ed-2c7f-408c-8434-db64d447823a"
      },
      "execution_count": 16,
      "outputs": [
        {
          "output_type": "stream",
          "name": "stdout",
          "text": [
            "4.111111111111111\n",
            "4.0\n",
            "2.0245407953653998\n",
            "4.098765432098765\n",
            "1 8\n"
          ]
        }
      ]
    },
    {
      "cell_type": "code",
      "source": [
        "array1 = np.array([1,  2,  3,  4,  5,  6,  7,  8,  9, 10])\n",
        "\n",
        "#selecionando um intervalo de valores dentro de um array\n",
        "intervalo = array1[3:8]\n",
        "print(intervalo)\n",
        "\n",
        "#selecionando todos os valores pares dentro do array\n",
        "valores_pares = array1[array1%2==0]\n",
        "print(valores_pares)\n",
        "\n",
        "resultados = array1[array1 < 4]\n",
        "print(resultados)"
      ],
      "metadata": {
        "colab": {
          "base_uri": "https://localhost:8080/"
        },
        "id": "Du88iAxKellk",
        "outputId": "c5df0608-9793-4634-f480-da57f914933b"
      },
      "execution_count": 17,
      "outputs": [
        {
          "output_type": "stream",
          "name": "stdout",
          "text": [
            "[4 5 6 7 8]\n",
            "[ 2  4  6  8 10]\n",
            "[1 2 3]\n"
          ]
        }
      ]
    },
    {
      "cell_type": "markdown",
      "source": [
        "# Regressão logistica com Numpy\n",
        "\n",
        "vamos criar um exemplo do modelo de regressão logistica utilizando o numpy"
      ],
      "metadata": {
        "id": "agI0bVM-e9rG"
      }
    },
    {
      "cell_type": "code",
      "source": [
        "\"\"\" Em programacao Python tradicional\n",
        "podemos criar o modelo utilizando listas\"\"\"\n",
        "\n",
        "# A entrada eh um vetor de dimensao 10\n",
        "x = [1,3,2,1,5,2,3,1,6,3]\n",
        "\n",
        "# temos um valor de peso para cada atributo da entrada\n",
        "w = [.1, .2, .5, .3, .2, .1, .2, .4, .5, .6]\n",
        "\n",
        "# e um valor de bias\n",
        "b = 1.0\n",
        "\n",
        "modelo_regressao = lambda x: (sum([x[i]*w[i] for i in range(len(x))]) + b)\n",
        "print(f\"Regressao lista: {modelo_regressao(x)}\")\n",
        "\n",
        "\"\"\" Agora vamos criar o modelo\n",
        "utilizando numpy\"\"\"\n",
        "\n",
        "x_np = np.array(x)\n",
        "w_np = np.array(w)\n",
        "modelo_regressao_numpy = lambda x: np.sum(x_np * w_np) + b\n",
        "print(f\"Regressao Numpy: {modelo_regressao_numpy(x_np)}\")\n",
        "\n",
        "\"\"\"\n",
        "O processo de otimizacao do modelo de regressao é iterativo e\n",
        "envolve varios passos\n",
        "(assim como para varios modelos supervisionados);\n",
        "Vamos comparar o resultado da operação para varias iterações, simulando\n",
        "um processo de otimizacao (simplificado)\n",
        "\"\"\"\n",
        "\n",
        "import time\n",
        "import random\n",
        "\n",
        "# vamos criar um vetor de entrada de tramanho 1000 com valores de 0 a 100\n",
        "x = [random.randint (0, 100) for i in range(1000)]\n",
        "w = [random.randint (0, 100) for i in range(1000)]\n",
        "\n",
        "# rodamos o modelo por 1000 iteracoes (epocas)\n",
        "start = time.time()\n",
        "for _ in range(1000000): modelo_regressao(x)\n",
        "end   = time.time()\n",
        "print(f\"Tempo de execucao modelo 01: {end-start}\")\n",
        "\n",
        "x_np = np.array(x)\n",
        "w_np = np.array(w)\n",
        "start = time.time()\n",
        "for _ in range(1000000): modelo_regressao_numpy(x_np)\n",
        "end   = time.time()\n",
        "print(f\"Tempo de execucao modelo 02: {end-start}\")"
      ],
      "metadata": {
        "colab": {
          "base_uri": "https://localhost:8080/"
        },
        "id": "4hozFuPRe-Z9",
        "outputId": "35f8a2d1-00c9-4571-af81-5ac8cbe2d199"
      },
      "execution_count": 18,
      "outputs": [
        {
          "output_type": "stream",
          "name": "stdout",
          "text": [
            "Regressao lista: 10.0\n",
            "Regressao Numpy: 10.0\n",
            "Tempo de execucao modelo 01: 132.98455667495728\n",
            "Tempo de execucao modelo 02: 9.332834482192993\n"
          ]
        }
      ]
    }
  ]
}