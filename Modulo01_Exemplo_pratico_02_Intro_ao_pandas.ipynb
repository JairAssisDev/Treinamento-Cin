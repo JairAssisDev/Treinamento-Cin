{
  "nbformat": 4,
  "nbformat_minor": 0,
  "metadata": {
    "colab": {
      "provenance": [],
      "include_colab_link": true
    },
    "kernelspec": {
      "name": "python3",
      "display_name": "Python 3"
    },
    "language_info": {
      "name": "python"
    }
  },
  "cells": [
    {
      "cell_type": "markdown",
      "metadata": {
        "id": "view-in-github",
        "colab_type": "text"
      },
      "source": [
        "<a href=\"https://colab.research.google.com/github/JairAssisDev/Treinamento-Cin/blob/main/Modulo01_Exemplo_pratico_02_Intro_ao_pandas.ipynb\" target=\"_parent\"><img src=\"https://colab.research.google.com/assets/colab-badge.svg\" alt=\"Open In Colab\"/></a>"
      ]
    },
    {
      "cell_type": "markdown",
      "source": [
        "## Instalando e importando a biblioteca:"
      ],
      "metadata": {
        "id": "vz62eQPQOH31"
      }
    },
    {
      "cell_type": "code",
      "execution_count": 1,
      "metadata": {
        "id": "XuqRqqXwHCL5",
        "colab": {
          "base_uri": "https://localhost:8080/"
        },
        "outputId": "1b9408b7-9aa7-42f1-b909-bb2123deea38"
      },
      "outputs": [
        {
          "output_type": "stream",
          "name": "stdout",
          "text": [
            "Requirement already satisfied: pandas in /usr/local/lib/python3.10/dist-packages (1.5.3)\n",
            "Requirement already satisfied: python-dateutil>=2.8.1 in /usr/local/lib/python3.10/dist-packages (from pandas) (2.8.2)\n",
            "Requirement already satisfied: pytz>=2020.1 in /usr/local/lib/python3.10/dist-packages (from pandas) (2023.3.post1)\n",
            "Requirement already satisfied: numpy>=1.21.0 in /usr/local/lib/python3.10/dist-packages (from pandas) (1.23.5)\n",
            "Requirement already satisfied: six>=1.5 in /usr/local/lib/python3.10/dist-packages (from python-dateutil>=2.8.1->pandas) (1.16.0)\n"
          ]
        }
      ],
      "source": [
        "pip install pandas"
      ]
    },
    {
      "cell_type": "code",
      "source": [
        "#Importando a biblioteca:\n",
        "import numpy as np\n",
        "import pandas as pd"
      ],
      "metadata": {
        "id": "zScgL6lMOM1P"
      },
      "execution_count": 2,
      "outputs": []
    },
    {
      "cell_type": "markdown",
      "source": [
        "## Séries e Dataframes:\n",
        "\n",
        "\n",
        "Séries: um array unidimensional rotulado que contém qualquer tipo de dado\n",
        "\n",
        "Dataframe: uma estrutura de dados bidimensional que contém dados como uma tabela com linhas e colunas"
      ],
      "metadata": {
        "id": "JVXTOY1bOud0"
      }
    },
    {
      "cell_type": "code",
      "source": [
        "array = np.array([2,5,3,8,0,5,np.nan])\n",
        "\n",
        "#criando a série\n",
        "serie = pd.Series(array)\n",
        "\n",
        "#tipo e conteúdo\n",
        "print(type(serie))\n",
        "print(serie)"
      ],
      "metadata": {
        "id": "cbMm3xcjOx8K",
        "colab": {
          "base_uri": "https://localhost:8080/"
        },
        "outputId": "a970005d-b3c1-478e-fec9-ef99875cc663"
      },
      "execution_count": 3,
      "outputs": [
        {
          "output_type": "stream",
          "name": "stdout",
          "text": [
            "<class 'pandas.core.series.Series'>\n",
            "0    2.0\n",
            "1    5.0\n",
            "2    3.0\n",
            "3    8.0\n",
            "4    0.0\n",
            "5    5.0\n",
            "6    NaN\n",
            "dtype: float64\n"
          ]
        }
      ]
    },
    {
      "cell_type": "code",
      "source": [
        "#dicionário que será passado para criar o dataframe\n",
        "data = {'Nome': ['Alice', 'Bob', 'Charlie', 'David'],\n",
        "        'Idade': [25, 30, 35, 40]}\n",
        "\n",
        "#criação do dataframe\n",
        "df = pd.DataFrame(data)\n",
        "print(df)"
      ],
      "metadata": {
        "id": "AucWoTZyQMEK",
        "colab": {
          "base_uri": "https://localhost:8080/"
        },
        "outputId": "b009fdcc-8ecb-4f27-dd80-23ea498a3bad"
      },
      "execution_count": 4,
      "outputs": [
        {
          "output_type": "stream",
          "name": "stdout",
          "text": [
            "      Nome  Idade\n",
            "0    Alice     25\n",
            "1      Bob     30\n",
            "2  Charlie     35\n",
            "3    David     40\n"
          ]
        }
      ]
    },
    {
      "cell_type": "markdown",
      "source": [
        "## Acessando e alterando valores:"
      ],
      "metadata": {
        "id": "r2rf5DPLWisS"
      }
    },
    {
      "cell_type": "code",
      "source": [
        "#selecionando dados específicos do dataframe:\n",
        "nomes = df['Nome']\n",
        "idades = df['Idade']\n",
        "print(nomes)\n",
        "print(idades)"
      ],
      "metadata": {
        "id": "-sCMC30UT-g2",
        "colab": {
          "base_uri": "https://localhost:8080/"
        },
        "outputId": "2dc58d15-c0a7-4575-9c37-a897bac18ddd"
      },
      "execution_count": 5,
      "outputs": [
        {
          "output_type": "stream",
          "name": "stdout",
          "text": [
            "0      Alice\n",
            "1        Bob\n",
            "2    Charlie\n",
            "3      David\n",
            "Name: Nome, dtype: object\n",
            "0    25\n",
            "1    30\n",
            "2    35\n",
            "3    40\n",
            "Name: Idade, dtype: int64\n"
          ]
        }
      ]
    },
    {
      "cell_type": "code",
      "source": [
        "#filtrando pessoas com idade acima de 30\n",
        "df_filtrado = df[df['Idade'] > 30]\n",
        "print(df_filtrado)"
      ],
      "metadata": {
        "id": "tlw9hJUDWaeU",
        "colab": {
          "base_uri": "https://localhost:8080/"
        },
        "outputId": "a7263503-aa21-46e6-b8a3-508cdaea56cf"
      },
      "execution_count": 6,
      "outputs": [
        {
          "output_type": "stream",
          "name": "stdout",
          "text": [
            "      Nome  Idade\n",
            "2  Charlie     35\n",
            "3    David     40\n"
          ]
        }
      ]
    },
    {
      "cell_type": "code",
      "source": [
        "#ordenando por idade em ordem decrescente\n",
        "df_ordenado = df.sort_values(by='Idade', ascending=False)\n",
        "print(df_ordenado)"
      ],
      "metadata": {
        "id": "BSNklEKGWtvo",
        "colab": {
          "base_uri": "https://localhost:8080/"
        },
        "outputId": "05e41bcd-5d55-4d73-993b-4b6dcc6e8b02"
      },
      "execution_count": 7,
      "outputs": [
        {
          "output_type": "stream",
          "name": "stdout",
          "text": [
            "      Nome  Idade\n",
            "3    David     40\n",
            "2  Charlie     35\n",
            "1      Bob     30\n",
            "0    Alice     25\n"
          ]
        }
      ]
    },
    {
      "cell_type": "code",
      "source": [
        "#adicionando uma nova coluna\n",
        "df['Cidade'] = ['Nova York', 'Los Angeles', 'Chicago', 'Houston']\n",
        "print(df)"
      ],
      "metadata": {
        "id": "yZMyF5dAbi6S",
        "colab": {
          "base_uri": "https://localhost:8080/"
        },
        "outputId": "f40ec8cb-b4bb-4031-fa9b-439fb0782b54"
      },
      "execution_count": 8,
      "outputs": [
        {
          "output_type": "stream",
          "name": "stdout",
          "text": [
            "      Nome  Idade       Cidade\n",
            "0    Alice     25    Nova York\n",
            "1      Bob     30  Los Angeles\n",
            "2  Charlie     35      Chicago\n",
            "3    David     40      Houston\n"
          ]
        }
      ]
    },
    {
      "cell_type": "code",
      "source": [
        "#agrupando dados e aplicando funções de agregação\n",
        "media_idade_por_cidade = df.groupby('Cidade')['Idade'].mean()\n",
        "print(media_idade_por_cidade)"
      ],
      "metadata": {
        "id": "SWKadE6yb9Xa",
        "colab": {
          "base_uri": "https://localhost:8080/"
        },
        "outputId": "6974f45c-0143-4023-ed97-44408cc1e687"
      },
      "execution_count": 10,
      "outputs": [
        {
          "output_type": "stream",
          "name": "stdout",
          "text": [
            "Cidade\n",
            "Chicago        35.0\n",
            "Houston        40.0\n",
            "Los Angeles    30.0\n",
            "Nova York      25.0\n",
            "Name: Idade, dtype: float64\n"
          ]
        }
      ]
    },
    {
      "cell_type": "code",
      "source": [
        "#removendo uma coluna\n",
        "df = df.drop(columns=['Cidade'])\n",
        "print(df)"
      ],
      "metadata": {
        "id": "ylhnKr5wcRRN",
        "colab": {
          "base_uri": "https://localhost:8080/"
        },
        "outputId": "9f142b0d-ee01-4683-d7a0-23e962cffa8e"
      },
      "execution_count": 11,
      "outputs": [
        {
          "output_type": "stream",
          "name": "stdout",
          "text": [
            "      Nome  Idade\n",
            "0    Alice     25\n",
            "1      Bob     30\n",
            "2  Charlie     35\n",
            "3    David     40\n"
          ]
        }
      ]
    },
    {
      "cell_type": "code",
      "source": [
        "#resumindo estatísticas descritivas do DataFrame\n",
        "print(df.describe())"
      ],
      "metadata": {
        "id": "BsOTczCWb3n-",
        "colab": {
          "base_uri": "https://localhost:8080/"
        },
        "outputId": "809a530d-2e53-4fa0-859f-9910246f1004"
      },
      "execution_count": 12,
      "outputs": [
        {
          "output_type": "stream",
          "name": "stdout",
          "text": [
            "           Idade\n",
            "count   4.000000\n",
            "mean   32.500000\n",
            "std     6.454972\n",
            "min    25.000000\n",
            "25%    28.750000\n",
            "50%    32.500000\n",
            "75%    36.250000\n",
            "max    40.000000\n"
          ]
        }
      ]
    },
    {
      "cell_type": "markdown",
      "source": [
        "## Salvando e Abrindo arquivos do tipo CSV"
      ],
      "metadata": {
        "id": "5X-g6uaicuuT"
      }
    },
    {
      "cell_type": "code",
      "source": [
        "#salvando o DataFrame em um arquivo CSV\n",
        "df.to_csv('novo_arquivo.csv', index=False)"
      ],
      "metadata": {
        "id": "7WJimA6QcJoX"
      },
      "execution_count": 13,
      "outputs": []
    },
    {
      "cell_type": "code",
      "source": [
        "datasframe2 = pd.read_csv('novo_arquivo.csv')\n",
        "print(datasframe2.head())"
      ],
      "metadata": {
        "id": "DtM-4rBqceef",
        "colab": {
          "base_uri": "https://localhost:8080/"
        },
        "outputId": "11145f70-54cf-48e3-b890-de08afc62515"
      },
      "execution_count": 14,
      "outputs": [
        {
          "output_type": "stream",
          "name": "stdout",
          "text": [
            "      Nome  Idade\n",
            "0    Alice     25\n",
            "1      Bob     30\n",
            "2  Charlie     35\n",
            "3    David     40\n"
          ]
        }
      ]
    },
    {
      "cell_type": "markdown",
      "source": [
        "## Exercícios\n",
        "\n",
        "Utilize a tabela disponível em: https://github.com/infoslack/ml-book-exemplos/blob/main/data/venda-de-carros-formatado.csv\n",
        "\n",
        "01 - Carregue o csv em um dataframe e visualize os dados imprimindo as 5 primeiras linhas do dataframe\n",
        "\n",
        "02 - Obtenha o nome de todas as colunas do dataframe\n",
        "\n",
        "03 - Exiba as informações estatísticas sobre os dados\n",
        "\n",
        "04 - Verifique as entradas válidas e remova linhas com dados faltantes (NaN)\n",
        "\n",
        "05 - Ajuste as colunas para que contenham o tipo correto (e.g., preço = float)\n",
        "\n",
        "06 - Obtenha um dataframe que contenha apenas carros com 4 portas\n",
        "\n",
        "07 - Imprima o tamanho do dataframe\n",
        "\n",
        "08 - Obtenha o item da segunda linha\n",
        "\n",
        "09 - Obtenha a média das quilometragens existentes no conjunto"
      ],
      "metadata": {
        "id": "IhiKxxzXjmPz"
      }
    }
  ]
}