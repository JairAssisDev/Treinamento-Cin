{
  "nbformat": 4,
  "nbformat_minor": 0,
  "metadata": {
    "colab": {
      "provenance": []
    },
    "kernelspec": {
      "name": "python3",
      "display_name": "Python 3"
    },
    "language_info": {
      "name": "python"
    }
  },
  "cells": [
    {
      "cell_type": "markdown",
      "source": [
        "##Notebook para avaliação"
      ],
      "metadata": {
        "id": "Yqe1fhhQffhg"
      }
    },
    {
      "cell_type": "code",
      "execution_count": 1,
      "metadata": {
        "colab": {
          "base_uri": "https://localhost:8080/"
        },
        "id": "yqMOuhiIfezO",
        "outputId": "4aee282c-6ee4-4f86-dabf-170d43174e6c"
      },
      "outputs": [
        {
          "output_type": "stream",
          "name": "stdout",
          "text": [
            "Cloning into 'imgcourse'...\n",
            "remote: Enumerating objects: 37, done.\u001b[K\n",
            "remote: Counting objects: 100% (37/37), done.\u001b[K\n",
            "remote: Compressing objects: 100% (33/33), done.\u001b[K\n",
            "remote: Total 37 (delta 8), reused 20 (delta 2), pack-reused 0\u001b[K\n",
            "Receiving objects: 100% (37/37), 6.57 MiB | 25.66 MiB/s, done.\n",
            "Resolving deltas: 100% (8/8), done.\n"
          ]
        }
      ],
      "source": [
        "import os\n",
        "if os.path.isdir(\"imgcourse\"):\n",
        "  print(\"Diretório já existe!\")\n",
        "else:\n",
        "  !git clone https://github.com/mhsacampos/imgcourse"
      ]
    },
    {
      "cell_type": "code",
      "source": [
        "import cv2\n",
        "import numpy as np\n",
        "\n",
        "# 1. Ler a imagem\n",
        "img = cv2.imread('imgcourse/lena.png')\n",
        "\n",
        "# 2. Converter para tons de cinza\n",
        "gray = cv2.cvtColor(img, cv2.COLOR_BGR2GRAY)\n",
        "\n",
        "# 3. Obter o espectro de Fourier no domínio da frequência\n",
        "f = np.fft.fft2(gray)\n",
        "fshift = np.fft.fftshift(f)\n",
        "\n",
        "# 4. Obter o logaritmo neperiano do resultado anterior\n",
        "magnitude_spectrum = np.log(np.abs(fshift))\n",
        "\n",
        "# 5. Calcular o valor da média sobre o resultado do passo 4\n",
        "mean_value = np.mean(magnitude_spectrum)\n",
        "print(mean_value)\n"
      ],
      "metadata": {
        "id": "n7uhkZmYJZZO",
        "outputId": "6d5024fd-d70b-4103-bff6-1709bd3d6740",
        "colab": {
          "base_uri": "https://localhost:8080/"
        }
      },
      "execution_count": 5,
      "outputs": [
        {
          "output_type": "stream",
          "name": "stdout",
          "text": [
            "7.880856921403483\n"
          ]
        }
      ]
    },
    {
      "cell_type": "code",
      "source": [
        "import cv2\n",
        "import numpy as np\n",
        "\n",
        "# 1. Ler a imagem\n",
        "img = cv2.imread('imgcourse/lena.png')\n",
        "\n",
        "# 2. Converter para tons de cinza\n",
        "gray = cv2.cvtColor(img, cv2.COLOR_BGR2GRAY)\n",
        "\n",
        "# 3. Equalizar a imagem\n",
        "equalized_img = cv2.equalizeHist(gray)\n",
        "\n",
        "# 4. Calcular a média e o desvio padrão\n",
        "mean, std_dev = cv2.meanStdDev(equalized_img)\n",
        "\n",
        "print(mean,std_dev)\n"
      ],
      "metadata": {
        "id": "jSt-R177I5FG",
        "outputId": "c70108de-8bd9-45df-f8e4-1fcca0e64de2",
        "colab": {
          "base_uri": "https://localhost:8080/"
        }
      },
      "execution_count": 3,
      "outputs": [
        {
          "output_type": "stream",
          "name": "stdout",
          "text": [
            "[[128.50994492]] [[73.2617728]]\n"
          ]
        }
      ]
    },
    {
      "cell_type": "markdown",
      "source": [
        "##Colocar o código nas próximas células para desenvolvimento dos exercícios de avaliação"
      ],
      "metadata": {
        "id": "FDXv2DFAf_tp"
      }
    }
  ]
}